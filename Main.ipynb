{
 "cells": [
  {
   "cell_type": "code",
   "execution_count": 1,
   "metadata": {},
   "outputs": [],
   "source": [
    "import random\n",
    "import numpy as np\n",
    "from agent import Agent"
   ]
  },
  {
   "cell_type": "code",
   "execution_count": 2,
   "metadata": {},
   "outputs": [],
   "source": [
    "def jogada(isPlayer, agent):\n",
    "    if isPlayer:\n",
    "        #agente.epsilon = 1\n",
    "        b = agent.choose_action(agent.state[0], isPlayer)\n",
    "        #agente.episilon = 0.03\n",
    "        while b[0] == [None, None] and len(agent.boneyard) != 0:\n",
    "            agent.play(agent.state[1], isPlayer, b[0][0], b[0][1])\n",
    "            b = agent.choose_action(agent.state[1], isPlayer)\n",
    "        #print(a.acao_possível(a.estado[0]),a.estado[0],a.estado[3],a.estado[4])\n",
    "        agent.play(agent.state[0], isPlayer, b[0][0], b[0][1])\n",
    "        agent.atualizar_funcao_valor(agent.state, isPlayer)\n",
    "    else:\n",
    "        agent.epsilon = 1\n",
    "        c = agent.choose_action(agent.state[1], isPlayer)\n",
    "        agent.epsilon = 0.03\n",
    "        while c[0] == [None, None] and len(agent.boneyard) != 0:\n",
    "            agent.play(agent.state[1], isPlayer, c[0][0], c[0][1])\n",
    "            c = agent.choose_action(agent.state[1], isPlayer)\n",
    "        agent.play(agent.state[1], isPlayer, c[0][0], c[0][1])\n",
    "        #agente.atualizar_funcao_valor(estado=a.estado,jogador = jogador)\n",
    "    return"
   ]
  },
  {
   "cell_type": "code",
   "execution_count": 15,
   "metadata": {
    "scrolled": true
   },
   "outputs": [
    {
     "name": "stdout",
     "output_type": "stream",
     "text": [
      "0.2156 0.199\n",
      "0.2156 0.199 %\n",
      "0.2135 0.2003\n",
      "0.2114 0.2016 %\n",
      "0.21193333333333333 0.20533333333333334\n",
      "0.2088 0.2154 %\n",
      "0.21115 0.20475\n",
      "0.2088 0.203 %\n",
      "0.2118 0.2046\n",
      "0.2144 0.204 %\n",
      "0.21043333333333333 0.20436666666666667\n",
      "0.2036 0.2032 %\n",
      "0.21085714285714285 0.20477142857142858\n",
      "0.2134 0.2072 %\n",
      "0.21195 0.204225\n",
      "0.2196 0.2004 %\n",
      "0.21186666666666668 0.20471111111111112\n",
      "0.2112 0.2086 %\n",
      "0.21192 0.2049\n",
      "0.2124 0.2066 %\n",
      "0.2112 0.20521818181818183\n",
      "0.204 0.2084 %\n",
      "0.21155 0.20516666666666666\n",
      "0.2154 0.2046 %\n",
      "0.21241538461538462 0.2053230769230769\n",
      "0.2228 0.2072 %\n",
      "0.21198571428571428 0.2052\n",
      "0.2064 0.2036 %\n",
      "0.21169333333333334 0.20506666666666667\n",
      "0.2076 0.2032 %\n",
      "0.2117125 0.2048\n",
      "0.212 0.2008 %\n",
      "0.21187058823529412 0.20549411764705883\n",
      "0.2144 0.2166 %\n",
      "0.21208888888888888 0.20525555555555555\n",
      "0.2158 0.2012 %\n",
      "0.2122736842105263 0.20529473684210525\n",
      "0.2156 0.206 %\n",
      "0.21183 0.20563\n",
      "0.2034 0.212 %\n",
      "0.21135238095238096 0.20578095238095237\n",
      "0.2018 0.2088 %\n",
      "0.21163636363636365 0.20575454545454547\n",
      "0.2176 0.2052 %\n",
      "0.21135652173913044 0.20603478260869565\n",
      "0.2052 0.2122 %\n",
      "0.21151666666666666 0.206025\n",
      "0.2152 0.2058 %\n",
      "0.211608 0.206272\n",
      "0.2138 0.2122 %\n",
      "0.21155384615384615 0.20637692307692307\n",
      "0.2102 0.209 %\n",
      "0.2117851851851852 0.20685925925925927\n",
      "0.2178 0.2194 %\n",
      "0.21170714285714284 0.20689285714285716\n",
      "0.2096 0.2078 %\n",
      "0.21149655172413792 0.20719310344827585\n",
      "0.2056 0.2156 %\n",
      "0.21112666666666666 0.2073\n",
      "0.2004 0.2104 %\n"
     ]
    }
   ],
   "source": [
    "agent = Agent()\n",
    "cont = 0\n",
    "vitorias_jogador_player = 0\n",
    "vitorias_jogador_opponent = 0\n",
    "jogos_por_cem = [0, 0, 0]\n",
    "\n",
    "while cont < 150000:\n",
    "    while agent.game_status() == \"It is not over\":\n",
    "        jogada(True, agent)\n",
    "        jogada(False, agent)\n",
    "\n",
    "    if \"Lost\" == agent.game_status():\n",
    "        vitorias_jogador_opponent +=1\n",
    "        jogos_por_cem[1] += 1\n",
    "\n",
    "    if \"Won\" == agent.game_status():\n",
    "        vitorias_jogador_player +=1\n",
    "        jogos_por_cem[0] += 1\n",
    "\n",
    "    agent.reset()\n",
    "    cont += 1\n",
    "    jogos_por_cem[2] += 1\n",
    "    if cont % 5000 == 0:\n",
    "        print(vitorias_jogador_player/cont, vitorias_jogador_opponent/cont)\n",
    "    if cont % 5000 == 0:\n",
    "        print(jogos_por_cem[0]/jogos_por_cem[2], jogos_por_cem[1]/jogos_por_cem[2], \"%\")\n",
    "        jogos_por_cem = [0,0,0]"
   ]
  },
  {
   "cell_type": "code",
   "execution_count": null,
   "metadata": {},
   "outputs": [],
   "source": []
  }
 ],
 "metadata": {
  "kernelspec": {
   "display_name": "Python 3",
   "language": "python",
   "name": "python3"
  },
  "language_info": {
   "codemirror_mode": {
    "name": "ipython",
    "version": 3
   },
   "file_extension": ".py",
   "mimetype": "text/x-python",
   "name": "python",
   "nbconvert_exporter": "python",
   "pygments_lexer": "ipython3",
   "version": "3.7.3"
  }
 },
 "nbformat": 4,
 "nbformat_minor": 4
}
